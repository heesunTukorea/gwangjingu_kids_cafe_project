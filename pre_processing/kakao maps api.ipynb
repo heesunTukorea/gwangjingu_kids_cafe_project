{
 "cells": [
  {
   "cell_type": "markdown",
   "metadata": {
    "id": "jBK7qAsLDZ_9"
   },
   "source": [
    "# 좌표 변환 함수"
   ]
  },
  {
   "cell_type": "code",
   "execution_count": null,
   "metadata": {
    "colab": {
     "base_uri": "https://localhost:8080/"
    },
    "collapsed": true,
    "executionInfo": {
     "elapsed": 54233,
     "status": "ok",
     "timestamp": 1743691857117,
     "user": {
      "displayName": "안이찬",
      "userId": "06453155958936315491"
     },
     "user_tz": -540
    },
    "id": "4CgLUV709CMw",
    "outputId": "30fe8ce0-2652-4b05-972a-8ef15f285528"
   },
   "outputs": [
    {
     "name": "stdout",
     "output_type": "stream",
     "text": [
      "<bound method NDFrame.head of                                키즈카페 이름  자치구  \\\n",
      "0                      서울형 키즈카페 시립 1호점  동작구   \n",
      "1                   서울형 키즈카페 시립 뚝섬자벌레점  광진구   \n",
      "2                      서울형 키즈카페 시립 목동점  양천구   \n",
      "3                       서울형키즈카페 시립 옴팡점  노원구   \n",
      "4                   서울형 키즈카페 강남구 역삼1동점  강남구   \n",
      "..                                 ...  ...   \n",
      "73                       은평아이맘놀이터 수색동점  은평구   \n",
      "74  서울형 키즈카페 종로구 혜화동점(종로 혜명 아이들 상상놀이터)  종로구   \n",
      "75              서울형 키즈카페 중구 중림동점(노리몽땅)   중구   \n",
      "76      서울형 키즈카페 중랑구 망우본동점(중랑실내놀이터 양원)  중랑구   \n",
      "77        서울형 키즈카페 중랑구 면목4동점(중랑 실내놀이터)  중랑구   \n",
      "\n",
      "                                                   주소  이용연령_min  이용연령_max  \\\n",
      "0                서울특별시 동작구 노량진로 10 서울가족플라자 지하2층 (대방동)         4        10   \n",
      "1                   서울특별시 광진구 강변북로 2202 2층 꿈틀나루 (자양동)         0         6   \n",
      "2                  서울특별시 양천구 안양천로 1131 지식산업센터 2층 (목동)         3        12   \n",
      "3                    서울특별시 노원구 동일로174길 27 서울생활사박물관 옴팡         0        13   \n",
      "4            서울특별시 강남구 언주로107길 4 2층 (역삼동) 2층 서울형 키즈카페         0         6   \n",
      "..                                                ...       ...       ...   \n",
      "73  서울특별시 은평구 은평터널로 27 101동 1층 은평아이맘놀이터 3호점 (수색동, ...         0         6   \n",
      "74              서울특별시 종로구 성균관로 91 올림픽기념국민생활관 2층 (혜화동)         4         8   \n",
      "75                     서울특별시 중구 서소문로6길 16 본관 1층 (중림동)         0         6   \n",
      "76  서울특별시 중랑구 용마산로 670 시티원스퀘어 상가 201동 지하1층 (망우동, 신...         2         8   \n",
      "77   서울특별시 중랑구 용마산로 209 공공기여시설1층 (면목동, 쌍용 더 플래티넘 용마산)         2         6   \n",
      "\n",
      "    이용정원_개인  이용정원_단체                                          예약 신청 URL  \\\n",
      "0        33       33  https://icare.seoul.go.kr/icare/user/kidsCafeR...   \n",
      "1        43       43  https://icare.seoul.go.kr/icare/user/kidsCafeR...   \n",
      "2        24       24  https://icare.seoul.go.kr/icare/user/kidsCafeR...   \n",
      "3        50       70  https://yeyak.seoul.go.kr/web/reservation/sele...   \n",
      "4        24       24  https://icare.seoul.go.kr/icare/user/kidsCafeR...   \n",
      "..      ...      ...                                                ...   \n",
      "73       14       14  https://icare.seoul.go.kr/icare/user/kidsCafeR...   \n",
      "74       25       30  https://icare.seoul.go.kr/icare/user/kidsCafeR...   \n",
      "75       38       38  https://icare.seoul.go.kr/icare/user/kidsCafeR...   \n",
      "76       73       80  https://icare.seoul.go.kr/icare/user/kidsCafeR...   \n",
      "77       35       50  https://icare.seoul.go.kr/icare/user/kidsCafeR...   \n",
      "\n",
      "     latitude   longitude  \n",
      "0   37.512399  126.927388  \n",
      "1   37.530877  127.065983  \n",
      "2   37.542172  126.883680  \n",
      "3   37.620174  127.076936  \n",
      "4   37.507778  127.038831  \n",
      "..        ...         ...  \n",
      "73  37.585075  126.897053  \n",
      "74  37.590489  126.998780  \n",
      "75  37.559430  126.966260  \n",
      "76  37.611944  127.102489  \n",
      "77  37.572121  127.085750  \n",
      "\n",
      "[78 rows x 10 columns]>\n"
     ]
    }
   ],
   "source": [
    "import requests\n",
    "import pandas as pd\n",
    "\n",
    "# 1. 카카오 REST API 키 입력 (개인 키로 변경 필요)\n",
    "KAKAO_API_KEY = \"input your key\"\n",
    "\n",
    "# 2. 주소 → 좌표 변환 함수\n",
    "def get_lat_lon(address):\n",
    "    url = \"https://dapi.kakao.com/v2/local/search/address.json\"\n",
    "    headers = {\"Authorization\": f\"KakaoAK {KAKAO_API_KEY}\"}\n",
    "    params = {\"query\": address}\n",
    "\n",
    "    response = requests.get(url, headers=headers, params=params)\n",
    "    if response.status_code == 200:\n",
    "        result = response.json()\n",
    "        if result[\"documents\"]:\n",
    "            lat = float(result[\"documents\"][0][\"y\"])  # 위도\n",
    "            lon = float(result[\"documents\"][0][\"x\"])  # 경도\n",
    "            return lat, lon\n",
    "    return None, None  # 변환 실패 시\n",
    "\n",
    "# 3. 주소 데이터프레임 생성\n",
    "data = pd.read_csv('/content/kids_cafe_list_all.csv', encoding = 'cp949')\n",
    "\n",
    "# 4. apply()를 활용하여 위도·경도 변환 적용\n",
    "data[\"latitude\"], data[\"longitude\"] = zip(*data[\"주소\"].apply(get_lat_lon))\n",
    "\n",
    "# 5. 결과 출력\n",
    "print(data.head)\n"
   ]
  },
  {
   "cell_type": "code",
   "execution_count": null,
   "metadata": {
    "id": "_9YA_SSqEo-O"
   },
   "outputs": [],
   "source": [
    "data.to_csv('kids_cafe_list_all_xy.csv', index=False, encoding='cp949')"
   ]
  },
  {
   "cell_type": "code",
   "execution_count": null,
   "metadata": {
    "colab": {
     "base_uri": "https://localhost:8080/"
    },
    "executionInfo": {
     "elapsed": 649,
     "status": "ok",
     "timestamp": 1743837605695,
     "user": {
      "displayName": "안이찬",
      "userId": "06453155958936315491"
     },
     "user_tz": -540
    },
    "id": "tvCEsZe7BwWx",
    "outputId": "f4b58094-091a-4d21-ff59-88b9b2faaef2"
   },
   "outputs": [
    {
     "data": {
      "text/plain": [
       "<Response [200]>"
      ]
     },
     "execution_count": 3,
     "metadata": {},
     "output_type": "execute_result"
    }
   ],
   "source": [
    "import requests\n",
    "import pandas as pd\n",
    "\n",
    "# 1. 카카오 REST API 키 입력 (개인 키로 변경 필요)\n",
    "KAKAO_API_KEY = \"input your key\"\n",
    "\n",
    "# 2. 주소 → 좌표 변환 함수\n",
    "def get_lat_lon(address):\n",
    "    url = \"https://dapi.kakao.com/v2/local/search/address.json\"\n",
    "    headers = {\"Authorization\": f\"KakaoAK {KAKAO_API_KEY}\"}\n",
    "    params = {\"query\": address}\n",
    "\n",
    "    response = requests.get(url, headers=headers, params=params)\n",
    "\n",
    "    return response\n",
    "\n",
    "a = get_lat_lon(\"서울특별시 송파구 백제고분로15길 9\")\n",
    "a\n"
   ]
  },
  {
   "cell_type": "code",
   "execution_count": null,
   "metadata": {
    "colab": {
     "base_uri": "https://localhost:8080/"
    },
    "executionInfo": {
     "elapsed": 10,
     "status": "ok",
     "timestamp": 1743837606382,
     "user": {
      "displayName": "안이찬",
      "userId": "06453155958936315491"
     },
     "user_tz": -540
    },
    "id": "9yweVzlrB_8-",
    "outputId": "3e3606b8-5e7f-49a9-bebf-75b0bc09868f"
   },
   "outputs": [
    {
     "data": {
      "text/plain": [
       "{'documents': [{'address': {'address_name': '서울 송파구 잠실동 230-1',\n",
       "    'b_code': '1171010100',\n",
       "    'h_code': '1171065000',\n",
       "    'main_address_no': '230',\n",
       "    'mountain_yn': 'N',\n",
       "    'region_1depth_name': '서울',\n",
       "    'region_2depth_name': '송파구',\n",
       "    'region_3depth_h_name': '잠실본동',\n",
       "    'region_3depth_name': '잠실동',\n",
       "    'sub_address_no': '1',\n",
       "    'x': '127.084298944796',\n",
       "    'y': '37.5061594376588'},\n",
       "   'address_name': '서울 송파구 백제고분로15길 9',\n",
       "   'address_type': 'ROAD_ADDR',\n",
       "   'road_address': {'address_name': '서울 송파구 백제고분로15길 9',\n",
       "    'building_name': '잠실본동사무소',\n",
       "    'main_building_no': '9',\n",
       "    'region_1depth_name': '서울',\n",
       "    'region_2depth_name': '송파구',\n",
       "    'region_3depth_name': '잠실동',\n",
       "    'road_name': '백제고분로15길',\n",
       "    'sub_building_no': '',\n",
       "    'underground_yn': 'N',\n",
       "    'x': '127.084298944796',\n",
       "    'y': '37.5061594376588',\n",
       "    'zone_no': '05568'},\n",
       "   'x': '127.084298944796',\n",
       "   'y': '37.5061594376588'}],\n",
       " 'meta': {'is_end': True, 'pageable_count': 1, 'total_count': 1}}"
      ]
     },
     "execution_count": 4,
     "metadata": {},
     "output_type": "execute_result"
    }
   ],
   "source": [
    "b = a.json()\n",
    "b"
   ]
  },
  {
   "cell_type": "markdown",
   "metadata": {
    "id": "47i0BNBkDed9"
   },
   "source": [
    "# 주변 장소 카운트"
   ]
  },
  {
   "cell_type": "code",
   "execution_count": null,
   "metadata": {
    "colab": {
     "base_uri": "https://localhost:8080/"
    },
    "executionInfo": {
     "elapsed": 596296,
     "status": "ok",
     "timestamp": 1744602106445,
     "user": {
      "displayName": "안이찬",
      "userId": "06453155958936315491"
     },
     "user_tz": -540
    },
    "id": "Z06Qf7PeWK9A",
    "outputId": "2ab4f621-540d-44dc-b60a-fb70ee28922a"
   },
   "outputs": [
    {
     "name": "stderr",
     "output_type": "stream",
     "text": [
      "📍 반경 500m 처리 중: 100%|██████████| 1586/1586 [04:43<00:00,  5.60it/s]\n"
     ]
    },
    {
     "name": "stdout",
     "output_type": "stream",
     "text": [
      "   Unnamed: 0       gid   longitude   latitude  \\\n",
      "0           0  다사608477  127.056911  37.528226   \n",
      "1           1  다사608478  127.056906  37.529127   \n",
      "2           2  다사609479  127.058032  37.530033   \n",
      "3           3  다사609480  127.058027  37.530934   \n",
      "4           4  다사609481  127.058022  37.531835   \n",
      "\n",
      "                                            geometry  \\\n",
      "0  POLYGON ((127.05634807254776 37.52777310757020...   \n",
      "1  POLYGON ((127.05634273423657 37.52867444283111...   \n",
      "2  POLYGON ((127.05746915708907 37.52958002424764...   \n",
      "3  POLYGON ((127.05746383192019 37.53048135936886...   \n",
      "4  POLYGON ((127.05745850651408 37.53138269435151...   \n",
      "\n",
      "                                        centroid   adm_cd  행자부행정동코드 시군구명  \\\n",
      "0  POINT (127.05691127388377 37.528225899148474)  1123078  11680565  강남구   \n",
      "1    POINT (127.0569059422622 37.52912723440883)  1105067  11215847  광진구   \n",
      "2   POINT (127.05803237873211 37.53003281047079)  1105067  11215847  광진구   \n",
      "3  POINT (127.05802706025375 37.530934145591296)  1105067  11215847  광진구   \n",
      "4   POINT (127.05802174153843 37.53183548057322)  1104067  11200670  성동구   \n",
      "\n",
      "   행정동명  ...  숙박_개수  숙박_최소거리(m)  음식점_개수  음식점_최소거리(m)  카페_개수  카페_최소거리(m)  \\\n",
      "0  자양4동  ...      0       99999      18          336      5         355   \n",
      "1  자양4동  ...      0       99999       8          418      3         450   \n",
      "2  자양4동  ...      0       99999       2          306      0       99999   \n",
      "3  자양4동  ...      2         439       2          313      1         479   \n",
      "4  자양4동  ...      2         347       5          350      3         408   \n",
      "\n",
      "   병원_개수  병원_최소거리(m)  약국_개수  약국_최소거리(m)  \n",
      "0      0       99999      0       99999  \n",
      "1      0       99999      0       99999  \n",
      "2      0       99999      0       99999  \n",
      "3      0       99999      0       99999  \n",
      "4      0       99999      0       99999  \n",
      "\n",
      "[5 rows x 56 columns]\n"
     ]
    },
    {
     "name": "stderr",
     "output_type": "stream",
     "text": [
      "📍 반경 1000m 처리 중: 100%|██████████| 1586/1586 [05:12<00:00,  5.08it/s]"
     ]
    },
    {
     "name": "stdout",
     "output_type": "stream",
     "text": [
      "   Unnamed: 0       gid   longitude   latitude  \\\n",
      "0           0  다사608477  127.056911  37.528226   \n",
      "1           1  다사608478  127.056906  37.529127   \n",
      "2           2  다사609479  127.058032  37.530033   \n",
      "3           3  다사609480  127.058027  37.530934   \n",
      "4           4  다사609481  127.058022  37.531835   \n",
      "\n",
      "                                            geometry  \\\n",
      "0  POLYGON ((127.05634807254776 37.52777310757020...   \n",
      "1  POLYGON ((127.05634273423657 37.52867444283111...   \n",
      "2  POLYGON ((127.05746915708907 37.52958002424764...   \n",
      "3  POLYGON ((127.05746383192019 37.53048135936886...   \n",
      "4  POLYGON ((127.05745850651408 37.53138269435151...   \n",
      "\n",
      "                                        centroid   adm_cd  행자부행정동코드 시군구명  \\\n",
      "0  POINT (127.05691127388377 37.528225899148474)  1123078  11680565  강남구   \n",
      "1    POINT (127.0569059422622 37.52912723440883)  1105067  11215847  광진구   \n",
      "2   POINT (127.05803237873211 37.53003281047079)  1105067  11215847  광진구   \n",
      "3  POINT (127.05802706025375 37.530934145591296)  1105067  11215847  광진구   \n",
      "4   POINT (127.05802174153843 37.53183548057322)  1104067  11200670  성동구   \n",
      "\n",
      "   행정동명  ...  숙박_개수  숙박_최소거리(m)  음식점_개수  음식점_최소거리(m)  카페_개수  카페_최소거리(m)  \\\n",
      "0  자양4동  ...     14         507     383          375     97         355   \n",
      "1  자양4동  ...     17         605     452          445    102         450   \n",
      "2  자양4동  ...     16         535     557          560    114         578   \n",
      "3  자양4동  ...     14         439     627          552    133         517   \n",
      "4  자양4동  ...     16         347     635          490    144         429   \n",
      "\n",
      "   병원_개수  병원_최소거리(m)  약국_개수  약국_최소거리(m)  \n",
      "0     74         509     13         617  \n",
      "1     66         580     15         717  \n",
      "2     55         721     20         733  \n",
      "3     51         640     20         636  \n",
      "4     49         544     17         541  \n",
      "\n",
      "[5 rows x 56 columns]\n"
     ]
    },
    {
     "name": "stderr",
     "output_type": "stream",
     "text": [
      "\n"
     ]
    }
   ],
   "source": [
    "import nest_asyncio\n",
    "import asyncio\n",
    "import aiohttp\n",
    "import pandas as pd\n",
    "from tqdm import tqdm\n",
    "\n",
    "nest_asyncio.apply()  # 이미 실행 중인 이벤트 루프에 중첩 실행 허용\n",
    "\n",
    "KAKAO_API_KEY = \"input your key\"\n",
    "\n",
    "Category = ['대형마트', '편의점', '어린이집', '학교', '학원', '주차장', '주유소', '지하철역',\n",
    "            '은행', '문화시설', '중개업소', '공공기관', '관광명소', '숙박', '음식점', '카페', '병원', '약국']\n",
    "category_group_codes = ['MT1', 'CS2', 'PS3', 'SC4', 'AC5', 'PK6', 'OL7', 'SW8', 'BK9', 'CT1',\n",
    "                        'AG2', 'PO3', 'AT4', 'AD5', 'FD6', 'CE7', 'HP8', 'PM9']\n",
    "category_dict = dict(zip(Category, category_group_codes))\n",
    "headers = {\"Authorization\": f\"KakaoAK {KAKAO_API_KEY}\"}\n",
    "\n",
    "# 🔁 카테고리별 요청\n",
    "async def fetch_category(session, latitude, longitude, radius, category_name, category_code):\n",
    "    url = \"https://dapi.kakao.com/v2/local/search/category.json\"\n",
    "    params = {\n",
    "        \"category_group_code\": category_code,\n",
    "        \"x\": longitude,\n",
    "        \"y\": latitude,\n",
    "        \"radius\": radius\n",
    "    }\n",
    "\n",
    "    try:\n",
    "        async with session.get(url, headers=headers, params=params) as resp:\n",
    "            data = await resp.json()\n",
    "            documents = data.get(\"documents\", [])\n",
    "            count = data['meta'].get('total_count', 0)\n",
    "            min_dist = min([int(doc.get(\"distance\", \"99999\")) for doc in documents if doc.get(\"distance\", \"99999\").isdigit()] or [99999])\n",
    "            return {\n",
    "                f\"{category_name}_개수\": count,\n",
    "                f\"{category_name}_최소거리(m)\": min_dist\n",
    "            }\n",
    "    except Exception as e:\n",
    "        print(f\"⚠️ 카테고리 {category_name} 오류: {e}\")\n",
    "        return {\n",
    "            f\"{category_name}_개수\": 0,\n",
    "            f\"{category_name}_최소거리(m)\": 99999\n",
    "        }\n",
    "\n",
    "# 좌표 1개 처리\n",
    "async def fetch_all_categories(session, latitude, longitude, radius):\n",
    "    tasks = [\n",
    "        fetch_category(session, latitude, longitude, radius, cat_name, cat_code)\n",
    "        for cat_name, cat_code in category_dict.items()\n",
    "    ]\n",
    "    results = await asyncio.gather(*tasks)\n",
    "    combined = {}\n",
    "    for r in results:\n",
    "        combined.update(r)\n",
    "    return combined\n",
    "\n",
    "# 전체 좌표 처리\n",
    "async def analyze_all(df, radius):\n",
    "    async with aiohttp.ClientSession() as session:\n",
    "        results = []\n",
    "        for _, row in tqdm(df.iterrows(), total=len(df), desc=f\"📍 반경 {radius}m 처리 중\"):\n",
    "            result = await fetch_all_categories(session, row.latitude, row.longitude, radius)\n",
    "            results.append(result)\n",
    "        return pd.concat([df, pd.DataFrame(results)], axis=1)\n",
    "\n",
    "# 실행 함수\n",
    "def run(radius):\n",
    "    data = pd.read_csv(f'/content/drive/MyDrive/gwangjin_places_{radius}m.csv', encoding='cp949')\n",
    "    loop = asyncio.get_event_loop()\n",
    "    result_df = loop.run_until_complete(analyze_all(data, radius))\n",
    "    result_df.to_csv(f'/content/drive/MyDrive/gwangjin_places_{radius}m_kakao.csv', encoding='cp949', index=False)\n",
    "    print(result_df.head())\n",
    "\n",
    "# 실행\n",
    "for m in [500, 1000]:\n",
    "    run(m)\n"
   ]
  },
  {
   "cell_type": "code",
   "execution_count": null,
   "metadata": {
    "id": "MzxyCyyYCKKH"
   },
   "outputs": [],
   "source": [
    "import requests\n",
    "import pandas as pd\n",
    "import json\n",
    "\n",
    "KAKAO_API_KEY = \"input your key\"\n",
    "\n",
    "# 2. 카테고리 코드 매핑\n",
    "Category = ['대형마트', '편의점', '어린이집', '학교', '학원', '주차장', '주유소', '지하철역',\n",
    "            '은행', '문화시설', '중개업소', '공공기관', '관광명소', '숙박', '음식점', '카페', '병원', '약국']\n",
    "category_group_codes = ['MT1', 'CS2', 'PS3', 'SC4', 'AC5', 'PK6', 'OL7', 'SW8', 'BK9', 'CT1',\n",
    "                        'AG2', 'PO3', 'AT4', 'AD5', 'FD6', 'CE7', 'HP8', 'PM9']\n",
    "category_dict = dict(zip(Category, category_group_codes))\n",
    "\n",
    "def find_nearby_places(latitude, longitude, radius):\n",
    "    \"\"\"\n",
    "    특정 좌표에서 반경 내 모든 카테고리의 장소 개수와 최소 거리 반환\n",
    "    \"\"\"\n",
    "    url = \"https://dapi.kakao.com/v2/local/search/category.json\"\n",
    "    headers = {\"Authorization\": f\"KakaoAK {KAKAO_API_KEY}\"}\n",
    "\n",
    "    result = {}\n",
    "\n",
    "    # 원하는 그룹 코드 입력\n",
    "    params = {\n",
    "        \"category_group_code\": 'AC5',\n",
    "        \"x\": longitude,\n",
    "        \"y\": latitude,\n",
    "        \"radius\": radius,\n",
    "        \"page\": 1\n",
    "    }\n",
    "\n",
    "    response = requests.get(url, headers=headers, params=params)\n",
    "    data = response.json()\n",
    "    print(data)\n",
    "\n",
    "    return data\n",
    "\n"
   ]
  },
  {
   "cell_type": "code",
   "execution_count": null,
   "metadata": {
    "colab": {
     "base_uri": "https://localhost:8080/"
    },
    "executionInfo": {
     "elapsed": 894,
     "status": "ok",
     "timestamp": 1743845128832,
     "user": {
      "displayName": "안이찬",
      "userId": "06453155958936315491"
     },
     "user_tz": -540
    },
    "id": "EL_LuzL4kafF",
    "outputId": "0532127e-c912-46c5-c345-1888a5fce67c"
   },
   "outputs": [
    {
     "name": "stdout",
     "output_type": "stream",
     "text": [
      "{'documents': [{'address_name': '서울 동작구 대방동 341-19', 'category_group_code': 'AC5', 'category_group_name': '학원', 'category_name': '교육,학문 > 학원', 'distance': '96', 'id': '10252981', 'phone': '02-826-7942', 'place_name': '대방전기통신학원', 'place_url': 'http://place.map.kakao.com/10252981', 'road_address_name': '서울 동작구 노량진로 4', 'x': '126.92630198640913', 'y': '37.51242598572201'}, {'address_name': '서울 동작구 대방동 339-1', 'category_group_code': 'AC5', 'category_group_name': '학원', 'category_name': '교육,학문 > 학원 > 공인중개사학원', 'distance': '141', 'id': '1381908228', 'phone': '02-815-0600', 'place_name': '에듀윌공인중개사 노량진학원', 'place_url': 'http://place.map.kakao.com/1381908228', 'road_address_name': '서울 동작구 노량진로 26', 'x': '126.928840786506', 'y': '37.5129339067207'}, {'address_name': '서울 동작구 대방동 339-1', 'category_group_code': 'AC5', 'category_group_name': '학원', 'category_name': '교육,학문 > 학원 > 주택관리사학원', 'distance': '150', 'id': '19138583', 'phone': '02-815-3388', 'place_name': '에듀윌 주택관리사 노량진학원', 'place_url': 'http://place.map.kakao.com/19138583', 'road_address_name': '서울 동작구 노량진로 26', 'x': '126.928940305382', 'y': '37.5129519867121'}, {'address_name': '서울 동작구 대방동 339-1', 'category_group_code': 'AC5', 'category_group_name': '학원', 'category_name': '교육,학문 > 학원', 'distance': '155', 'id': '26869124', 'phone': '02-6268-1400', 'place_name': '에듀윌 전기기사 노량진학원', 'place_url': 'http://place.map.kakao.com/26869124', 'road_address_name': '서울 동작구 노량진로 26', 'x': '126.929012702016', 'y': '37.5129448222117'}, {'address_name': '서울 동작구 대방동 341-4', 'category_group_code': 'AC5', 'category_group_name': '학원', 'category_name': '교육,학문 > 학원 > 어학원', 'distance': '171', 'id': '1820770004', 'phone': '02-812-4105', 'place_name': '동작청담에이프릴어학원', 'place_url': 'http://place.map.kakao.com/1820770004', 'road_address_name': '서울 동작구 여의대방로 286', 'x': '126.925509525446', 'y': '37.5119948086766'}, {'address_name': '서울 동작구 대방동 341-2', 'category_group_code': 'AC5', 'category_group_name': '학원', 'category_name': '교육,학문 > 학원', 'distance': '98', 'id': '17306160', 'phone': '02-814-8151', 'place_name': '신동성환경기술학원', 'place_url': 'http://place.map.kakao.com/17306160', 'road_address_name': '서울 동작구 노량진로 4', 'x': '126.926271495035', 'y': '37.5123773124758'}, {'address_name': '서울 동작구 대방동 339-15', 'category_group_code': 'AC5', 'category_group_name': '학원', 'category_name': '교육,학문 > 학원 > 편입학원', 'distance': '84', 'id': '13052823', 'phone': '02-812-4627', 'place_name': '이찬이대학편입학원 대방점', 'place_url': 'http://place.map.kakao.com/13052823', 'road_address_name': '서울 동작구 노량진로 22', 'x': '126.928116930095', 'y': '37.5128902202334'}, {'address_name': '서울 영등포구 신길동 449-22', 'category_group_code': 'AC5', 'category_group_name': '학원', 'category_name': '교육,학문 > 학원', 'distance': '442', 'id': '26437681', 'phone': '02-6959-3588', 'place_name': '새한전기기술사학원', 'place_url': 'http://place.map.kakao.com/26437681', 'road_address_name': '서울 영등포구 영등포로 400', 'x': '126.92245228564904', 'y': '37.5130289957111'}, {'address_name': '서울 동작구 대방동 37-2', 'category_group_code': 'AC5', 'category_group_name': '학원', 'category_name': '교육,학문 > 학원 > 편입학원', 'distance': '393', 'id': '381656580', 'phone': '02-822-2644', 'place_name': '위너스편입 대방점', 'place_url': 'http://place.map.kakao.com/381656580', 'road_address_name': '서울 동작구 등용로 119', 'x': '126.931769118305', 'y': '37.5117607252533'}, {'address_name': '서울 동작구 대방동 346-17', 'category_group_code': 'AC5', 'category_group_name': '학원', 'category_name': '교육,학문 > 학원 > 어학원 > 영어학원', 'distance': '69', 'id': '2004852941', 'phone': '02-815-0212', 'place_name': 'EIE고려대어학원 동작대방캠퍼스', 'place_url': 'http://place.map.kakao.com/2004852941', 'road_address_name': '서울 동작구 알마타길 21-42', 'x': '126.92778085677125', 'y': '37.51186106861113'}, {'address_name': '서울 동작구 대방동 501', 'category_group_code': 'AC5', 'category_group_name': '학원', 'category_name': '교육,학문 > 학원 > 수학학원', 'distance': '478', 'id': '8066772', 'phone': '02-846-5958', 'place_name': 'JBM수학학원', 'place_url': 'http://place.map.kakao.com/8066772', 'road_address_name': '서울 동작구 여의대방로 250', 'x': '126.924519714101', 'y': '37.5087433566811'}, {'address_name': '서울 동작구 대방동 344-24', 'category_group_code': 'AC5', 'category_group_name': '학원', 'category_name': '교육,학문 > 학원 > 어학원 > 중국어학원', 'distance': '148', 'id': '1494413724', 'phone': '', 'place_name': '슈어슈어중국어', 'place_url': 'http://place.map.kakao.com/1494413724', 'road_address_name': '서울 동작구 알마타길 13-3', 'x': '126.926540669691', 'y': '37.511246720006'}, {'address_name': '서울 동작구 대방동 341-2', 'category_group_code': 'AC5', 'category_group_name': '학원', 'category_name': '교육,학문 > 학원', 'distance': '117', 'id': '432577213', 'phone': '02-823-2211', 'place_name': '로이즈 가온에듀', 'place_url': 'http://place.map.kakao.com/432577213', 'road_address_name': '서울 동작구 노량진로 4', 'x': '126.926062223534', 'y': '37.5123988057626'}, {'address_name': '서울 동작구 대방동 502', 'category_group_code': 'AC5', 'category_group_name': '학원', 'category_name': '교육,학문 > 학원 > 음악학원 > 피아노학원', 'distance': '384', 'id': '320576673', 'phone': '02-815-7996', 'place_name': '현대피아노교습소', 'place_url': 'http://place.map.kakao.com/320576673', 'road_address_name': '서울 동작구 등용로 127', 'x': '126.93170594139298', 'y': '37.512822972552144'}, {'address_name': '서울 동작구 대방동 341-4', 'category_group_code': 'AC5', 'category_group_name': '학원', 'category_name': '교육,학문 > 학원 > 간호학원', 'distance': '171', 'id': '10941551', 'phone': '', 'place_name': '한양간호학원', 'place_url': 'http://place.map.kakao.com/10941551', 'road_address_name': '서울 동작구 여의대방로 286', 'x': '126.925516311903', 'y': '37.5119948129631'}], 'meta': {'is_end': False, 'pageable_count': 45, 'same_name': None, 'total_count': 73}}\n"
     ]
    }
   ],
   "source": [
    "test = find_nearby_places(37.51239909, 126.9273881, 500)"
   ]
  },
  {
   "cell_type": "code",
   "execution_count": null,
   "metadata": {
    "colab": {
     "base_uri": "https://localhost:8080/"
    },
    "executionInfo": {
     "elapsed": 15,
     "status": "ok",
     "timestamp": 1743845228839,
     "user": {
      "displayName": "안이찬",
      "userId": "06453155958936315491"
     },
     "user_tz": -540
    },
    "id": "AVfFwyuKCXGr",
    "outputId": "a73590d6-47e7-438e-b86c-889d8f725710"
   },
   "outputs": [
    {
     "data": {
      "text/plain": [
       "73"
      ]
     },
     "execution_count": 41,
     "metadata": {},
     "output_type": "execute_result"
    }
   ],
   "source": [
    "test['meta'].get('total_count', [])"
   ]
  },
  {
   "cell_type": "markdown",
   "metadata": {
    "id": "p7vYRyvfO656"
   },
   "source": [
    "# 키워드 검색"
   ]
  },
  {
   "cell_type": "markdown",
   "metadata": {
    "id": "baPSXJnjnprr"
   },
   "source": [
    "## 예시"
   ]
  },
  {
   "cell_type": "code",
   "execution_count": null,
   "metadata": {
    "executionInfo": {
     "elapsed": 718,
     "status": "ok",
     "timestamp": 1744888372837,
     "user": {
      "displayName": "안이찬",
      "userId": "06453155958936315491"
     },
     "user_tz": -540
    },
    "id": "QUied51S-5SG"
   },
   "outputs": [],
   "source": [
    "import requests\n",
    "import pandas as pd\n",
    "import json\n",
    "\n",
    "KAKAO_API_KEY = \"input your key\"\n",
    "\n",
    "# 2. 카테고리 코드 매핑\n",
    "Category = ['대형마트', '편의점', '어린이집', '학교', '학원', '주차장', '주유소', '지하철역',\n",
    "            '은행', '문화시설', '중개업소', '공공기관', '관광명소', '숙박', '음식점', '카페', '병원', '약국']\n",
    "category_group_codes = ['MT1', 'CS2', 'PS3', 'SC4', 'AC5', 'PK6', 'OL7', 'SW8', 'BK9', 'CT1',\n",
    "                        'AG2', 'PO3', 'AT4', 'AD5', 'FD6', 'CE7', 'HP8', 'PM9']\n",
    "category_dict = dict(zip(Category, category_group_codes))\n",
    "\n",
    "def keyword_find_nearby(latitude, longitude, radius, query):\n",
    "\n",
    "    url = \"https://dapi.kakao.com/v2/local/search/keyword.json\"\n",
    "    headers = {\"Authorization\": f\"KakaoAK {KAKAO_API_KEY}\"}\n",
    "\n",
    "    result = {}\n",
    "\n",
    "    # query에 원하는 키워드 입력\n",
    "    params = {\n",
    "        \"x\": longitude,\n",
    "        \"y\": latitude,\n",
    "        \"radius\": radius,\n",
    "        \"page\": 1,\n",
    "        \"query\": query\n",
    "    }\n",
    "\n",
    "    response = requests.get(url, headers=headers, params=params)\n",
    "    data = response.json()\n",
    "    # print(data)\n",
    "\n",
    "    return data\n",
    "\n"
   ]
  },
  {
   "cell_type": "code",
   "execution_count": null,
   "metadata": {
    "colab": {
     "base_uri": "https://localhost:8080/"
    },
    "executionInfo": {
     "elapsed": 1087,
     "status": "ok",
     "timestamp": 1744888405258,
     "user": {
      "displayName": "안이찬",
      "userId": "06453155958936315491"
     },
     "user_tz": -540
    },
    "id": "EaGhzX3z_02p",
    "outputId": "f741451a-32b0-4262-dc9c-918353d66599"
   },
   "outputs": [
    {
     "data": {
      "text/plain": [
       "{'documents': [{'address_name': '서울 강동구 상일동 526',\n",
       "   'category_group_code': 'CE7',\n",
       "   'category_group_name': '카페',\n",
       "   'category_name': '가정,생활 > 유아 > 놀이시설 > 키즈카페 > 서울형키즈카페',\n",
       "   'distance': '10',\n",
       "   'id': '1796273347',\n",
       "   'phone': '02-3425-7076',\n",
       "   'place_name': '서울형키즈카페 상일2동점',\n",
       "   'place_url': 'http://place.map.kakao.com/1796273347',\n",
       "   'road_address_name': '서울 강동구 상일로12길 95',\n",
       "   'x': '127.172338659013',\n",
       "   'y': '37.5566902852837'},\n",
       "  {'address_name': '서울 강동구 고덕동 693',\n",
       "   'category_group_code': 'CE7',\n",
       "   'category_group_name': '카페',\n",
       "   'category_name': '가정,생활 > 유아 > 놀이시설 > 키즈카페 > 서울형키즈카페',\n",
       "   'distance': '678',\n",
       "   'id': '454095157',\n",
       "   'phone': '02-3425-9435',\n",
       "   'place_name': '서울형키즈카페 강동구 고덕2동점',\n",
       "   'place_url': 'http://place.map.kakao.com/454095157',\n",
       "   'road_address_name': '서울 강동구 고덕로 353',\n",
       "   'x': '127.16472076448565',\n",
       "   'y': '37.557683244852214'},\n",
       "  {'address_name': '서울 강동구 상일동 산 77-27',\n",
       "   'category_group_code': 'CE7',\n",
       "   'category_group_name': '카페',\n",
       "   'category_name': '가정,생활 > 유아 > 놀이시설 > 키즈카페 > 서울형키즈카페',\n",
       "   'distance': '681',\n",
       "   'id': '739675288',\n",
       "   'phone': '02-3425-7071',\n",
       "   'place_name': '서울형키즈카페 강동구상일2동2호점',\n",
       "   'place_url': 'http://place.map.kakao.com/739675288',\n",
       "   'road_address_name': '서울 강동구 고덕로98길 71',\n",
       "   'x': '127.179759280784',\n",
       "   'y': '37.5551646458075'},\n",
       "  {'address_name': '서울 강동구 상일동 524',\n",
       "   'category_group_code': 'CE7',\n",
       "   'category_group_name': '카페',\n",
       "   'category_name': '가정,생활 > 유아 > 놀이시설 > 키즈카페',\n",
       "   'distance': '53',\n",
       "   'id': '441583908',\n",
       "   'phone': '',\n",
       "   'place_name': '꿀잼키즈룸 상일점',\n",
       "   'place_url': 'http://place.map.kakao.com/441583908',\n",
       "   'road_address_name': '서울 강동구 상일로12길 99',\n",
       "   'x': '127.17291622277',\n",
       "   'y': '37.5568507191986'},\n",
       "  {'address_name': '서울 강동구 상일동 524',\n",
       "   'category_group_code': 'CE7',\n",
       "   'category_group_name': '카페',\n",
       "   'category_name': '가정,생활 > 유아 > 놀이시설 > 키즈카페',\n",
       "   'distance': '54',\n",
       "   'id': '650534504',\n",
       "   'phone': '031-234-4249',\n",
       "   'place_name': '드로잉월',\n",
       "   'place_url': 'http://place.map.kakao.com/650534504',\n",
       "   'road_address_name': '서울 강동구 상일로12길 99',\n",
       "   'x': '127.17292414293483',\n",
       "   'y': '37.556849806596446'},\n",
       "  {'address_name': '서울 강동구 강일동 679',\n",
       "   'category_group_code': 'CE7',\n",
       "   'category_group_name': '카페',\n",
       "   'category_name': '가정,생활 > 유아 > 놀이시설 > 키즈카페',\n",
       "   'distance': '929',\n",
       "   'id': '20888299',\n",
       "   'phone': '02-442-0607',\n",
       "   'place_name': '아트리키즈카페',\n",
       "   'place_url': 'http://place.map.kakao.com/20888299',\n",
       "   'road_address_name': '서울 강동구 아리수로 427',\n",
       "   'x': '127.174612384127',\n",
       "   'y': '37.5649508775236'}],\n",
       " 'meta': {'is_end': True,\n",
       "  'pageable_count': 6,\n",
       "  'same_name': {'keyword': '키즈카페', 'region': [], 'selected_region': ''},\n",
       "  'total_count': 6}}"
      ]
     },
     "execution_count": 4,
     "metadata": {},
     "output_type": "execute_result"
    }
   ],
   "source": [
    "# key = keyword_find_nearby(37.62017392, 127.0769362, 1000)\n",
    "key = keyword_find_nearby(37.55678177, 127.1723165, 1000, '키즈카페')\n",
    "key"
   ]
  },
  {
   "cell_type": "code",
   "execution_count": null,
   "metadata": {
    "colab": {
     "base_uri": "https://localhost:8080/",
     "height": 35
    },
    "executionInfo": {
     "elapsed": 60,
     "status": "ok",
     "timestamp": 1743859334854,
     "user": {
      "displayName": "안이찬",
      "userId": "06453155958936315491"
     },
     "user_tz": -540
    },
    "id": "ze9QmV9c__N2",
    "outputId": "bc0e04d3-b36c-4932-cd96-5cf81a3d27f9"
   },
   "outputs": [
    {
     "data": {
      "application/vnd.google.colaboratory.intrinsic+json": {
       "type": "string"
      },
      "text/plain": [
       "'여행 > 공원 > 도시근린공원'"
      ]
     },
     "execution_count": 5,
     "metadata": {},
     "output_type": "execute_result"
    }
   ],
   "source": [
    "key['documents'][0]['category_name']"
   ]
  },
  {
   "cell_type": "markdown",
   "metadata": {
    "id": "doiUCdwwnftl"
   },
   "source": [
    "## 카테고리 필터링"
   ]
  },
  {
   "cell_type": "code",
   "execution_count": null,
   "metadata": {
    "id": "INYil1Fv7T4S"
   },
   "outputs": [],
   "source": [
    "def count_nearby_parks(latitude, longitude, radius):\n",
    "    \"\"\"\n",
    "    주어진 좌표에서 반경 내 '도시근린공원'의 개수와 가장 가까운 공원의 이름과 거리(m)를 반환\n",
    "    \"\"\"\n",
    "    url = \"https://dapi.kakao.com/v2/local/search/keyword.json\"\n",
    "    headers = {\"Authorization\": f\"KakaoAK {KAKAO_API_KEY}\"}\n",
    "\n",
    "    query = \"공원\"\n",
    "    page = 1\n",
    "    is_end = False\n",
    "\n",
    "    count = 0\n",
    "    min_distance = float('inf')\n",
    "    closest_park_name = None\n",
    "\n",
    "    while not is_end:\n",
    "        params = {\n",
    "            \"x\": longitude,\n",
    "            \"y\": latitude,\n",
    "            \"radius\": radius,\n",
    "            \"page\": page,\n",
    "            \"query\": query\n",
    "        }\n",
    "\n",
    "        response = requests.get(url, headers=headers, params=params)\n",
    "        data = response.json()\n",
    "        documents = data.get(\"documents\", [])\n",
    "\n",
    "        for doc in documents:\n",
    "            category = doc.get(\"category_name\", \"\")\n",
    "            distance_str = doc.get(\"distance\", \"\").strip()\n",
    "            place_name = doc.get(\"place_name\", \"\")\n",
    "\n",
    "            # 도시근린공원 카운트 및 최소 거리 체크\n",
    "            if category == \"여행 > 공원 > 도시근린공원\":\n",
    "                count += 1\n",
    "                # print(place_name)\n",
    "                try:\n",
    "                    if distance_str.isdigit():\n",
    "                        distance = int(distance_str)\n",
    "                        if distance < min_distance:\n",
    "                            min_distance = distance\n",
    "                            closest_park_name = place_name\n",
    "                except ValueError:\n",
    "                    continue\n",
    "\n",
    "        # 다음 페이지 여부 체크\n",
    "        meta = data.get(\"meta\", {})\n",
    "        is_end = meta.get(\"is_end\", True)\n",
    "        page += 1\n",
    "\n",
    "    # 결과 반환\n",
    "    return {\n",
    "        \"공원_개수\": count,\n",
    "        \"공원_최소거리(m)\": min_distance if min_distance != float('inf') else None,\n",
    "        \"가까운_공원\": closest_park_name\n",
    "\n",
    "    }\n"
   ]
  },
  {
   "cell_type": "code",
   "execution_count": null,
   "metadata": {
    "colab": {
     "base_uri": "https://localhost:8080/"
    },
    "executionInfo": {
     "elapsed": 2169,
     "status": "ok",
     "timestamp": 1743867962263,
     "user": {
      "displayName": "안이찬",
      "userId": "06453155958936315491"
     },
     "user_tz": -540
    },
    "id": "d9vof_8Gfx6A",
    "outputId": "84004dd0-ba38-4f72-c6bd-a5f5e88af68a"
   },
   "outputs": [
    {
     "data": {
      "text/plain": [
       "{'공원_개수': 7, '공원_최소거리(m)': 148, '가까운_공원': '벌말어린이공원'}"
      ]
     },
     "execution_count": 41,
     "metadata": {},
     "output_type": "execute_result"
    }
   ],
   "source": [
    "c = count_nearby_parks(37.63013826, 127.0414162, 1000)\n",
    "c"
   ]
  },
  {
   "cell_type": "code",
   "execution_count": null,
   "metadata": {
    "id": "1RBS9YRzeOoB"
   },
   "outputs": [],
   "source": [
    "data = pd.read_csv('/content/drive/MyDrive/gwangjin_places_1000m.csv', encoding='cp949')\n",
    "\n",
    "def extract_park_info(row):\n",
    "    result = count_nearby_parks(row.latitude, row.longitude, 1000)\n",
    "    return result[\"공원_개수\"], result[\"공원_최소거리(m)\"], result[\"가까운_공원\"]\n",
    "\n",
    "data[['공원_개수', '공원_최소거리(m)', '가까운 공원']] = data.apply(extract_park_info, axis=1, result_type='expand')\n",
    "\n",
    "data.to_csv(f'/content/drive/MyDrive/gwangjin_places_parks_1000m.csv', encoding='cp949', index=False)"
   ]
  },
  {
   "cell_type": "code",
   "execution_count": null,
   "metadata": {
    "id": "bdmzaqh6g8Tx"
   },
   "outputs": [],
   "source": [
    "data = pd.read_csv('/content/drive/MyDrive/gwangjin_places_500m.csv', encoding='cp949')\n",
    "\n",
    "def extract_park_info(row):\n",
    "    result = count_nearby_parks(row.latitude, row.longitude, 500)\n",
    "    return result[\"공원_개수\"], result[\"공원_최소거리(m)\"], result[\"가까운_공원\"]\n",
    "\n",
    "data[['공원_개수', '공원_최소거리(m)', '가까운 공원']] = data.apply(extract_park_info, axis=1, result_type='expand')\n",
    "\n",
    "data.to_csv(f'/content/drive/MyDrive/gwangjin_places_parks_500m.csv', encoding='cp949', index=False)"
   ]
  },
  {
   "cell_type": "markdown",
   "metadata": {
    "id": "iAmDE8penjEo"
   },
   "source": [
    "## 검색어 개수"
   ]
  },
  {
   "cell_type": "code",
   "execution_count": null,
   "metadata": {
    "id": "i9gSCrT1lMsH"
   },
   "outputs": [],
   "source": [
    "import requests\n",
    "\n",
    "def count_nearby_parks(latitude, longitude, radius):\n",
    "    \"\"\"\n",
    "    주어진 좌표에서 반경 내 '키즈카페' 카테고리의 장소 중\n",
    "    '서울형키즈카페'는 제외하고:\n",
    "    - 유효 장소 개수\n",
    "    - 가장 가까운 키즈카페 이름과 거리(m) (없으면 거리 99999)\n",
    "    - 전체 검색 결과 개수, 제외 개수\n",
    "    를 반환\n",
    "    \"\"\"\n",
    "    url = \"https://dapi.kakao.com/v2/local/search/keyword.json\"\n",
    "    headers = {\"Authorization\": f\"KakaoAK {KAKAO_API_KEY}\"}\n",
    "\n",
    "    query = \"키즈카페\"\n",
    "    page = 1\n",
    "    is_end = False\n",
    "\n",
    "    valid_count = 0\n",
    "    exclude_count = 0\n",
    "    min_distance = float('inf')\n",
    "    closest_place_name = None\n",
    "\n",
    "    while not is_end:\n",
    "        params = {\n",
    "            \"x\": longitude,\n",
    "            \"y\": latitude,\n",
    "            \"radius\": radius,\n",
    "            \"page\": page,\n",
    "            \"query\": query\n",
    "        }\n",
    "\n",
    "        response = requests.get(url, headers=headers, params=params)\n",
    "        data = response.json()\n",
    "        documents = data.get(\"documents\", [])\n",
    "\n",
    "        for doc in documents:\n",
    "            category = doc.get(\"category_name\", \"\")\n",
    "            distance_str = doc.get(\"distance\", \"\").strip()\n",
    "            place_name = doc.get(\"place_name\", \"\").strip()\n",
    "\n",
    "            # ✅ 제외 조건\n",
    "            if any(exclude in category for exclude in [\"음식점\", \"패션\", \"서비스\", \"서울형키즈카페\"]):\n",
    "                exclude_count += 1\n",
    "                continue\n",
    "\n",
    "            # ✅ 유효 장소 조건: category_name에 \"키즈카페\" 포함\n",
    "            if \"키즈카페\" in category:\n",
    "                valid_count += 1\n",
    "                try:\n",
    "                    if distance_str.isdigit():\n",
    "                        distance = int(distance_str)\n",
    "                        if distance < min_distance:\n",
    "                            min_distance = distance\n",
    "                            closest_place_name = place_name\n",
    "                except ValueError:\n",
    "                    continue\n",
    "\n",
    "        meta = data.get(\"meta\", {})\n",
    "        is_end = meta.get(\"is_end\", True)\n",
    "        page += 1\n",
    "\n",
    "    total_count = int(data.get(\"meta\", {}).get(\"total_count\", 0))\n",
    "\n",
    "    return {\n",
    "        f\"{query}_전체개수\": total_count - 1,\n",
    "        \"제외된_개수\": exclude_count,\n",
    "        \"유효_개수\": valid_count,\n",
    "        f\"{query}_최소거리(m)\": min_distance if min_distance != float('inf') else 99999,\n",
    "        f\"가까운_{query}\": closest_place_name if closest_place_name else \"없음\"\n",
    "    }\n"
   ]
  },
  {
   "cell_type": "code",
   "execution_count": 7,
   "metadata": {
    "colab": {
     "base_uri": "https://localhost:8080/"
    },
    "executionInfo": {
     "elapsed": 1085,
     "status": "ok",
     "timestamp": 1744888744252,
     "user": {
      "displayName": "안이찬",
      "userId": "06453155958936315491"
     },
     "user_tz": -540
    },
    "id": "mJTkqJjZq230",
    "outputId": "2a44c1df-c313-44c3-ae94-8d13a11da389"
   },
   "outputs": [
    {
     "data": {
      "text/plain": [
       "{'키즈카페_전체개수': 5,\n",
       " '제외된_개수': 3,\n",
       " '유효_개수': 3,\n",
       " '키즈카페_최소거리(m)': 53,\n",
       " '가까운_키즈카페': '꿀잼키즈룸 상일점'}"
      ]
     },
     "execution_count": 7,
     "metadata": {},
     "output_type": "execute_result"
    }
   ],
   "source": [
    "# count_nearby_parks(37.63013826, 127.0414162, 1000)\n",
    "count_nearby_parks(37.55678177, 127.1723165, 1000)\n"
   ]
  },
  {
   "cell_type": "code",
   "execution_count": null,
   "metadata": {
    "id": "HMDX0It2Xedq"
   },
   "outputs": [],
   "source": [
    "for m in [500,1000]:\n",
    "    data = pd.read_csv(f'/content/drive/MyDrive/gwangjin_places_{m}m.csv', encoding='cp949')\n",
    "\n",
    "    query = '키즈카페'\n",
    "    def extract_park_info(row):\n",
    "        result = count_nearby_parks(row.latitude, row.longitude, 1000)\n",
    "        return result[f\"사설키즈_전체개수\"], result['제외된_개수'], result['사설키즈_개수'], result[f\"사설키즈_최소거리(m)\"], result[f\"가까운_{query}\"]\n",
    "\n",
    "    data[[f\"사설키즈_전체개수\", '제외된_개수', '사설키즈_개수', f\"사설키즈_최소거리(m)\", f\"가까운_{query}\"]] = data.apply(extract_park_info, axis=1, result_type='expand')\n",
    "\n",
    "    data.to_csv(f'/content/drive/MyDrive/gwangjin_places_{query}_{m}.csv', encoding='cp949', index=False)"
   ]
  },
  {
   "cell_type": "markdown",
   "metadata": {
    "id": "gLbzgaGneqna"
   },
   "source": [
    "# 사설 키즈카페"
   ]
  },
  {
   "cell_type": "code",
   "execution_count": null,
   "metadata": {
    "id": "a7gUoU1nesPC"
   },
   "outputs": [],
   "source": [
    "import requests\n",
    "\n",
    "def count_nearby_parks(latitude, longitude, radius):\n",
    "    \"\"\"\n",
    "    주어진 좌표에서 반경 내 '키즈카페' 카테고리의 장소 중\n",
    "    '서울형키즈카페'는 제외하고:\n",
    "    - 유효 장소 개수\n",
    "    - 가장 가까운 키즈카페 이름과 거리(m) (없으면 거리 99999)\n",
    "    - 전체 검색 결과 개수, 제외 개수\n",
    "    를 반환\n",
    "    \"\"\"\n",
    "    url = \"https://dapi.kakao.com/v2/local/search/keyword.json\"\n",
    "    headers = {\"Authorization\": f\"KakaoAK {KAKAO_API_KEY}\"}\n",
    "\n",
    "    query = \"키즈카페\"\n",
    "    page = 1\n",
    "    is_end = False\n",
    "\n",
    "    valid_count = 0\n",
    "    exclude_count = 0\n",
    "    min_distance = float('inf')\n",
    "    closest_place_name = None\n",
    "\n",
    "    while not is_end:\n",
    "        params = {\n",
    "            \"x\": longitude,\n",
    "            \"y\": latitude,\n",
    "            \"radius\": radius,\n",
    "            \"page\": page,\n",
    "            \"query\": query\n",
    "        }\n",
    "\n",
    "        response = requests.get(url, headers=headers, params=params)\n",
    "        data = response.json()\n",
    "        documents = data.get(\"documents\", [])\n",
    "\n",
    "        for doc in documents:\n",
    "            category = doc.get(\"category_name\", \"\")\n",
    "            distance_str = doc.get(\"distance\", \"\").strip()\n",
    "            place_name = doc.get(\"place_name\", \"\").strip()\n",
    "\n",
    "            # ✅ 제외 조건\n",
    "            if any(exclude in category for exclude in [\"음식점\", \"패션\", \"서비스\", \"서울형키즈카페\"]):\n",
    "                exclude_count += 1\n",
    "                continue\n",
    "\n",
    "            # ✅ 유효 장소 조건: category_name에 \"키즈카페\" 포함\n",
    "            if \"키즈카페\" in category:\n",
    "                valid_count += 1\n",
    "                try:\n",
    "                    if distance_str.isdigit():\n",
    "                        distance = int(distance_str)\n",
    "                        if distance < min_distance:\n",
    "                            min_distance = distance\n",
    "                            closest_place_name = place_name\n",
    "                except ValueError:\n",
    "                    continue\n",
    "\n",
    "        meta = data.get(\"meta\", {})\n",
    "        is_end = meta.get(\"is_end\", True)\n",
    "        page += 1\n",
    "\n",
    "    total_count = int(data.get(\"meta\", {}).get(\"total_count\", 0))\n",
    "\n",
    "    return {\n",
    "        f\"사설키즈_전체개수\": total_count - 1,\n",
    "        \"제외된_개수\": exclude_count,\n",
    "        \"'사설키즈_개수'\": valid_count,\n",
    "        f\"사설키즈_최소거리(m)\": min_distance if min_distance != float('inf') else 99999,\n",
    "        f\"가까운_사설키즈\": closest_place_name if closest_place_name else \"없음\"\n",
    "    }\n"
   ]
  },
  {
   "cell_type": "code",
   "execution_count": null,
   "metadata": {
    "executionInfo": {
     "elapsed": 24,
     "status": "ok",
     "timestamp": 1744889097343,
     "user": {
      "displayName": "안이찬",
      "userId": "06453155958936315491"
     },
     "user_tz": -540
    },
    "id": "zDNvzSxWfTlS"
   },
   "outputs": [],
   "source": [
    "import pandas as pd\n",
    "import requests\n",
    "from concurrent.futures import ThreadPoolExecutor, as_completed\n",
    "\n",
    "KAKAO_API_KEY = \"input your key\"  # 여기에 실제 키 입력\n",
    "\n",
    "def count_nearby_parks(latitude, longitude, radius=1000):\n",
    "    url = \"https://dapi.kakao.com/v2/local/search/keyword.json\"\n",
    "    headers = {\"Authorization\": f\"KakaoAK {KAKAO_API_KEY}\"}\n",
    "    query = \"키즈카페\"\n",
    "    page = 1\n",
    "    is_end = False\n",
    "\n",
    "    valid_count = 0\n",
    "    exclude_count = 0\n",
    "    min_distance = float('inf')\n",
    "    closest_place_name = None\n",
    "\n",
    "    while not is_end:\n",
    "        params = {\n",
    "            \"x\": longitude,\n",
    "            \"y\": latitude,\n",
    "            \"radius\": radius,\n",
    "            \"page\": page,\n",
    "            \"query\": query\n",
    "        }\n",
    "\n",
    "        response = requests.get(url, headers=headers, params=params)\n",
    "        data = response.json()\n",
    "        documents = data.get(\"documents\", [])\n",
    "\n",
    "        for doc in documents:\n",
    "            category = doc.get(\"category_name\", \"\")\n",
    "            distance_str = doc.get(\"distance\", \"\").strip()\n",
    "            place_name = doc.get(\"place_name\", \"\").strip()\n",
    "\n",
    "            if any(exclude in category for exclude in [\"음식점\", \"패션\", \"서비스\", \"서울형키즈카페\"]):\n",
    "                exclude_count += 1\n",
    "                continue\n",
    "\n",
    "            if \"키즈카페\" in category:\n",
    "                valid_count += 1\n",
    "                if distance_str.isdigit():\n",
    "                    distance = int(distance_str)\n",
    "                    if distance < min_distance:\n",
    "                        min_distance = distance\n",
    "                        closest_place_name = place_name\n",
    "\n",
    "        meta = data.get(\"meta\", {})\n",
    "        is_end = meta.get(\"is_end\", True)\n",
    "        page += 1\n",
    "\n",
    "    total_count = int(data.get(\"meta\", {}).get(\"total_count\", 0))\n",
    "\n",
    "    return [\n",
    "        total_count - 1,\n",
    "        exclude_count,\n",
    "        valid_count,\n",
    "        min_distance if min_distance != float('inf') else 99999,\n",
    "        closest_place_name if closest_place_name else \"없음\"\n",
    "    ]\n",
    "\n",
    "# ✅ 멀티스레드 함수\n",
    "def process_dataframe_in_parallel(df, radius=1000, max_workers=10):\n",
    "    results = [None] * len(df)\n",
    "\n",
    "    def task_wrapper(i, row):\n",
    "        results[i] = count_nearby_parks(row.latitude, row.longitude, radius)\n",
    "\n",
    "    with ThreadPoolExecutor(max_workers=max_workers) as executor:\n",
    "        futures = [executor.submit(task_wrapper, i, row) for i, row in df.iterrows()]\n",
    "        for future in as_completed(futures):\n",
    "            pass  # just wait\n",
    "\n",
    "    return pd.DataFrame(results, columns=[\n",
    "        \"사설키즈_전체개수\", \"제외된_개수\", \"사설키즈_개수\", \"사설키즈_최소거리(m)\", \"가까운_사설키즈\"\n",
    "    ])"
   ]
  },
  {
   "cell_type": "code",
   "execution_count": 9,
   "metadata": {
    "executionInfo": {
     "elapsed": 108935,
     "status": "ok",
     "timestamp": 1744889209539,
     "user": {
      "displayName": "안이찬",
      "userId": "06453155958936315491"
     },
     "user_tz": -540
    },
    "id": "tF11iUGXeuPC"
   },
   "outputs": [],
   "source": [
    "for m in [500, 1000]:\n",
    "    df = pd.read_csv(f'/content/drive/MyDrive/gwangjin_places_{m}m.csv', encoding='cp949')\n",
    "    new_features_df = process_dataframe_in_parallel(df, radius=1000, max_workers=20)\n",
    "    result = pd.concat([df.reset_index(drop=True), new_features_df], axis=1)\n",
    "    result.to_csv(f'/content/drive/MyDrive/gwangjin_places_키즈카페_{m}.csv', encoding='cp949', index=False)"
   ]
  },
  {
   "cell_type": "code",
   "execution_count": 10,
   "metadata": {
    "executionInfo": {
     "elapsed": 5845,
     "status": "ok",
     "timestamp": 1744889215389,
     "user": {
      "displayName": "안이찬",
      "userId": "06453155958936315491"
     },
     "user_tz": -540
    },
    "id": "OAX5O_ZHe6of"
   },
   "outputs": [],
   "source": [
    "for m in [500, 1000]:\n",
    "    df = pd.read_csv(f'/content/drive/MyDrive/kids_cafe_list_all_xy.csv', encoding='cp949')\n",
    "    new_features_df = process_dataframe_in_parallel(df, radius=1000, max_workers=20)\n",
    "    result = pd.concat([df.reset_index(drop=True), new_features_df], axis=1)\n",
    "    result.to_csv(f'/content/drive/MyDrive/kids_with_키즈카페_{m}m.csv', encoding='cp949', index=False)"
   ]
  }
 ],
 "metadata": {
  "colab": {
   "authorship_tag": "ABX9TyOTSInriI2T2JFbhOvX9s/i",
   "collapsed_sections": [
    "jBK7qAsLDZ_9",
    "47i0BNBkDed9",
    "doiUCdwwnftl"
   ],
   "mount_file_id": "1FmdVnMgUENa4nSacVYvw3iwwPx6m-TeL",
   "provenance": []
  },
  "kernelspec": {
   "display_name": "Python 3",
   "name": "python3"
  },
  "language_info": {
   "name": "python"
  }
 },
 "nbformat": 4,
 "nbformat_minor": 0
}
