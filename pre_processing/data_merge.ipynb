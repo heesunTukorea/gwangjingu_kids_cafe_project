{
 "cells": [
  {
   "cell_type": "markdown",
   "id": "44b4c9fd",
   "metadata": {},
   "source": [
    "# 500m 광진구"
   ]
  },
  {
   "cell_type": "code",
   "execution_count": null,
   "id": "83876468",
   "metadata": {},
   "outputs": [],
   "source": [
    "import pandas as pd\n",
    "import os\n",
    "\n",
    "# 파일 경로 설정\n",
    "path = r'C:\\Users\\Anichan\\Documents\\공부자료\\24.03 광진구청 공모전\\code\\data\\500m_광진구'\n",
    "people_week = pd.read_csv(os.path.join(path, '서울_생활인구_평일_전체평균.csv'), encoding='cp949')\n",
    "people_hol = pd.read_csv(os.path.join(path, '서울_생활인구_휴일_전체평균.csv'), encoding='cp949')\n",
    "people_resi = pd.read_csv(os.path.join(path, '행정구역_주민등록인구 2025.03.csv'), encoding='cp949')\n",
    "poor = pd.read_csv(os.path.join(path, '수급자.csv'), encoding='utf-8')\n",
    "kakao = pd.read_csv(os.path.join(path, 'gwangjin_places_500m_kakao.csv'), encoding='cp949')\n",
    "kakao_kids = pd.read_csv(os.path.join(path, 'gwangjin_places_키즈카페_500.csv'), encoding='cp949')\n",
    "\n",
    "import re\n",
    "\n",
    "# '행정동' 컬럼에서 '제' 제거 (예: 자양제3동 → 자양3동)\n",
    "people_resi['행정동'] = people_resi['행정동'].apply(\n",
    "    lambda x: re.sub(r'제(\\d+)동', r'\\1동', x)\n",
    ")\n",
    "\n",
    "\n",
    "def clean_merged_columns(df, keep='_x'):\n",
    "    drop_suffix = '_y' if keep == '_x' else '_x'\n",
    "    cols_to_drop = [col for col in df.columns if col.endswith(drop_suffix)]\n",
    "    df = df.drop(columns=cols_to_drop)\n",
    "    df.columns = [col.replace(keep, '') for col in df.columns]\n",
    "    return df\n",
    "\n",
    "\n",
    "\n",
    "# 1. kakao와 gid 기준 병합\n",
    "merged = pd.merge(kakao_kids, kakao, on='gid', how='left')\n",
    "\n",
    "merged = clean_merged_columns(merged, keep='_x')\n",
    "\n",
    "# 2. 행정동 기준으로 나머지 파일 병합\n",
    "for df in [people_week, people_hol, people_resi, poor]:\n",
    "    merged = pd.merge(merged, df, on='행정동', how='left')\n",
    "\n",
    "merged = clean_merged_columns(merged, keep='_x')\n",
    "\n",
    "# 최종 결과 저장\n",
    "merged.to_csv(os.path.join(path, 'gwangjin_500m_all.csv'), encoding='cp949', index=False)\n",
    "print(\"✅ 병합 완료. 행 수:\", merged.shape[0])"
   ]
  },
  {
   "cell_type": "code",
   "execution_count": 23,
   "id": "b6822a0d",
   "metadata": {},
   "outputs": [
    {
     "name": "stdout",
     "output_type": "stream",
     "text": [
      "<class 'pandas.core.frame.DataFrame'>\n",
      "RangeIndex: 1586 entries, 0 to 1585\n",
      "Data columns (total 66 columns):\n",
      " #   Column        Non-Null Count  Dtype  \n",
      "---  ------        --------------  -----  \n",
      " 0   gid           1586 non-null   object \n",
      " 1   longitude     1586 non-null   float64\n",
      " 2   latitude      1586 non-null   float64\n",
      " 3   geometry      1586 non-null   object \n",
      " 4   centroid      1586 non-null   object \n",
      " 5   adm_cd        1586 non-null   int64  \n",
      " 6   행자부행정동코드      1586 non-null   int64  \n",
      " 7   시군구명          1586 non-null   object \n",
      " 8   행정동           1586 non-null   object \n",
      " 9   유흥주점_개수       1586 non-null   int64  \n",
      " 10  유흥주점_최소거리(m)  1586 non-null   float64\n",
      " 11  단란주점_개수       1586 non-null   int64  \n",
      " 12  단란주점_최소거리(m)  1586 non-null   float64\n",
      " 13  유치원_개수        1586 non-null   int64  \n",
      " 14  유치원_최소거리(m)   1586 non-null   float64\n",
      " 15  버스_개수         1586 non-null   int64  \n",
      " 16  버스_최소거리(m)    1586 non-null   float64\n",
      " 17  공원_개수         1586 non-null   int64  \n",
      " 18  공원_최소거리(m)    1586 non-null   float64\n",
      " 19  사설키즈_개수       1586 non-null   int64  \n",
      " 20  대형마트_개수       1586 non-null   int64  \n",
      " 21  대형마트_최소거리(m)  1586 non-null   int64  \n",
      " 22  편의점_개수        1586 non-null   int64  \n",
      " 23  편의점_최소거리(m)   1586 non-null   int64  \n",
      " 24  어린이집_개수       1586 non-null   int64  \n",
      " 25  어린이집_최소거리(m)  1586 non-null   int64  \n",
      " 26  학교_개수         1586 non-null   int64  \n",
      " 27  학교_최소거리(m)    1586 non-null   int64  \n",
      " 28  학원_개수         1586 non-null   int64  \n",
      " 29  학원_최소거리(m)    1586 non-null   int64  \n",
      " 30  주차장_개수        1586 non-null   int64  \n",
      " 31  주차장_최소거리(m)   1586 non-null   int64  \n",
      " 32  주유소_개수        1586 non-null   int64  \n",
      " 33  주유소_최소거리(m)   1586 non-null   int64  \n",
      " 34  지하철역_개수       1586 non-null   int64  \n",
      " 35  지하철역_최소거리(m)  1586 non-null   int64  \n",
      " 36  은행_개수         1586 non-null   int64  \n",
      " 37  은행_최소거리(m)    1586 non-null   int64  \n",
      " 38  문화시설_개수       1586 non-null   int64  \n",
      " 39  문화시설_최소거리(m)  1586 non-null   int64  \n",
      " 40  중개업소_개수       1586 non-null   int64  \n",
      " 41  중개업소_최소거리(m)  1586 non-null   int64  \n",
      " 42  공공기관_개수       1586 non-null   int64  \n",
      " 43  공공기관_최소거리(m)  1586 non-null   int64  \n",
      " 44  관광명소_개수       1586 non-null   int64  \n",
      " 45  관광명소_최소거리(m)  1586 non-null   int64  \n",
      " 46  숙박_개수         1586 non-null   int64  \n",
      " 47  숙박_최소거리(m)    1586 non-null   int64  \n",
      " 48  음식점_개수        1586 non-null   int64  \n",
      " 49  음식점_최소거리(m)   1586 non-null   int64  \n",
      " 50  카페_개수         1586 non-null   int64  \n",
      " 51  카페_최소거리(m)    1586 non-null   int64  \n",
      " 52  병원_개수         1586 non-null   int64  \n",
      " 53  병원_최소거리(m)    1586 non-null   int64  \n",
      " 54  약국_개수         1586 non-null   int64  \n",
      " 55  약국_최소거리(m)    1586 non-null   int64  \n",
      " 56  비활동시간_평일      1586 non-null   float64\n",
      " 57  활동시간_평일       1586 non-null   float64\n",
      " 58  비활동시간_휴일      1586 non-null   float64\n",
      " 59  활동시간_휴일       1586 non-null   float64\n",
      " 60  등록_0~4세       1586 non-null   int64  \n",
      " 61  등록_5~9세       1586 non-null   int64  \n",
      " 62  등록_10~14세     1586 non-null   int64  \n",
      " 63  구             1586 non-null   object \n",
      " 64  총_수급자_가구      1586 non-null   int64  \n",
      " 65  총_수급자_인원      1586 non-null   int64  \n",
      "dtypes: float64(11), int64(49), object(6)\n",
      "memory usage: 817.9+ KB\n"
     ]
    }
   ],
   "source": [
    "merged.info()"
   ]
  },
  {
   "cell_type": "markdown",
   "id": "b173bfae",
   "metadata": {},
   "source": [
    "# 1000m 광진구"
   ]
  },
  {
   "cell_type": "code",
   "execution_count": null,
   "id": "38f8743b",
   "metadata": {},
   "outputs": [],
   "source": [
    "import pandas as pd\n",
    "import os\n",
    "\n",
    "# 파일 경로 설정\n",
    "path = r'C:\\Users\\Anichan\\Documents\\공부자료\\24.03 광진구청 공모전\\code\\data\\1000m_광진구'\n",
    "people_week = pd.read_csv(os.path.join(path, '서울_생활인구_평일_전체평균.csv'), encoding='cp949')\n",
    "people_hol = pd.read_csv(os.path.join(path, '서울_생활인구_휴일_전체평균.csv'), encoding='cp949')\n",
    "people_resi = pd.read_csv(os.path.join(path, '행정구역_주민등록인구 2025.03.csv'), encoding='cp949')\n",
    "poor = pd.read_csv(os.path.join(path, '수급자.csv'), encoding='utf-8')\n",
    "kakao = pd.read_csv(os.path.join(path, 'gwangjin_places_1000m_kakao.csv'), encoding='cp949')\n",
    "kakao_kids = pd.read_csv(os.path.join(path, 'gwangjin_places_키즈카페_1000.csv'), encoding='cp949')\n",
    "\n",
    "import re\n",
    "\n",
    "# '행정동' 컬럼에서 '제' 제거 (예: 자양제3동 → 자양3동)\n",
    "people_resi['행정동'] = people_resi['행정동'].apply(\n",
    "    lambda x: re.sub(r'제(\\d+)동', r'\\1동', x)\n",
    ")\n",
    "\n",
    "\n",
    "def clean_merged_columns(df, keep='_x'):\n",
    "    drop_suffix = '_y' if keep == '_x' else '_x'\n",
    "    cols_to_drop = [col for col in df.columns if col.endswith(drop_suffix)]\n",
    "    df = df.drop(columns=cols_to_drop)\n",
    "    df.columns = [col.replace(keep, '') for col in df.columns]\n",
    "    return df\n",
    "\n",
    "\n",
    "\n",
    "# 1. kakao와 gid 기준 병합\n",
    "merged = pd.merge(kakao_kids, kakao, on='gid', how='left')\n",
    "\n",
    "merged = clean_merged_columns(merged, keep='_x')\n",
    "\n",
    "# 2. 행정동 기준으로 나머지 파일 병합\n",
    "for df in [people_week, people_hol, people_resi, poor]:\n",
    "    merged = pd.merge(merged, df, on='행정동', how='left')\n",
    "\n",
    "merged = clean_merged_columns(merged, keep='_x')\n",
    "\n",
    "# 💾 최종 결과 저장\n",
    "merged.to_csv(os.path.join(path, 'gwangjin_1000m_all.csv'), encoding='cp949', index=False)\n",
    "print(\"병합 완료. 행 수:\", merged.shape[0])"
   ]
  },
  {
   "cell_type": "code",
   "execution_count": 29,
   "id": "0ff3ce60",
   "metadata": {},
   "outputs": [
    {
     "name": "stdout",
     "output_type": "stream",
     "text": [
      "<class 'pandas.core.frame.DataFrame'>\n",
      "RangeIndex: 1586 entries, 0 to 1585\n",
      "Data columns (total 65 columns):\n",
      " #   Column        Non-Null Count  Dtype  \n",
      "---  ------        --------------  -----  \n",
      " 0   gid           1586 non-null   object \n",
      " 1   longitude     1586 non-null   float64\n",
      " 2   latitude      1586 non-null   float64\n",
      " 3   geometry      1586 non-null   object \n",
      " 4   centroid      1586 non-null   object \n",
      " 5   adm_cd        1586 non-null   int64  \n",
      " 6   행자부행정동코드      1586 non-null   int64  \n",
      " 7   시군구명          1586 non-null   object \n",
      " 8   행정동           1586 non-null   object \n",
      " 9   유흥주점_개수       1586 non-null   int64  \n",
      " 10  유흥주점_최소거리(m)  1586 non-null   float64\n",
      " 11  단란주점_개수       1586 non-null   int64  \n",
      " 12  단란주점_최소거리(m)  1586 non-null   float64\n",
      " 13  유치원_개수        1586 non-null   int64  \n",
      " 14  유치원_최소거리(m)   1586 non-null   float64\n",
      " 15  버스_개수         1586 non-null   int64  \n",
      " 16  버스_최소거리(m)    1586 non-null   float64\n",
      " 17  공원_개수         1586 non-null   int64  \n",
      " 18  공원_최소거리(m)    1586 non-null   float64\n",
      " 19  사설키즈_개수       1586 non-null   int64  \n",
      " 20  행정동명          1586 non-null   object \n",
      " 21  대형마트_개수       1586 non-null   int64  \n",
      " 22  대형마트_최소거리(m)  1586 non-null   int64  \n",
      " 23  편의점_개수        1586 non-null   int64  \n",
      " 24  편의점_최소거리(m)   1586 non-null   int64  \n",
      " 25  어린이집_개수       1586 non-null   int64  \n",
      " 26  어린이집_최소거리(m)  1586 non-null   int64  \n",
      " 27  학교_개수         1586 non-null   int64  \n",
      " 28  학교_최소거리(m)    1586 non-null   int64  \n",
      " 29  학원_개수         1586 non-null   int64  \n",
      " 30  학원_최소거리(m)    1586 non-null   int64  \n",
      " 31  주차장_개수        1586 non-null   int64  \n",
      " 32  주차장_최소거리(m)   1586 non-null   int64  \n",
      " 33  주유소_개수        1586 non-null   int64  \n",
      " 34  주유소_최소거리(m)   1586 non-null   int64  \n",
      " 35  지하철역_개수       1586 non-null   int64  \n",
      " 36  지하철역_최소거리(m)  1586 non-null   int64  \n",
      " 37  은행_개수         1586 non-null   int64  \n",
      " 38  은행_최소거리(m)    1586 non-null   int64  \n",
      " 39  문화시설_개수       1586 non-null   int64  \n",
      " 40  문화시설_최소거리(m)  1586 non-null   int64  \n",
      " 41  중개업소_개수       1586 non-null   int64  \n",
      " 42  중개업소_최소거리(m)  1586 non-null   int64  \n",
      " 43  공공기관_개수       1586 non-null   int64  \n",
      " 44  공공기관_최소거리(m)  1586 non-null   int64  \n",
      " 45  관광명소_개수       1586 non-null   int64  \n",
      " 46  관광명소_최소거리(m)  1586 non-null   int64  \n",
      " 47  숙박_개수         1586 non-null   int64  \n",
      " 48  숙박_최소거리(m)    1586 non-null   int64  \n",
      " 49  음식점_개수        1586 non-null   int64  \n",
      " 50  음식점_최소거리(m)   1586 non-null   int64  \n",
      " 51  카페_개수         1586 non-null   int64  \n",
      " 52  카페_최소거리(m)    1586 non-null   int64  \n",
      " 53  병원_개수         1586 non-null   int64  \n",
      " 54  병원_최소거리(m)    1586 non-null   int64  \n",
      " 55  약국_개수         1586 non-null   int64  \n",
      " 56  약국_최소거리(m)    1586 non-null   int64  \n",
      " 57  비활동시간_평균      1586 non-null   float64\n",
      " 58  활동시간_평균       1586 non-null   float64\n",
      " 59  등록_0~4세       1586 non-null   int64  \n",
      " 60  등록_5~9세       1586 non-null   int64  \n",
      " 61  등록_10~14세     1586 non-null   int64  \n",
      " 62  구             1586 non-null   object \n",
      " 63  총_수급자_가구      1586 non-null   int64  \n",
      " 64  총_수급자_인원      1586 non-null   int64  \n",
      "dtypes: float64(9), int64(49), object(7)\n",
      "memory usage: 805.5+ KB\n"
     ]
    }
   ],
   "source": [
    "merged.info()"
   ]
  },
  {
   "cell_type": "markdown",
   "id": "6f02ef77",
   "metadata": {},
   "source": [
    "# 500m 키즈카페"
   ]
  },
  {
   "cell_type": "code",
   "execution_count": null,
   "id": "035a6349",
   "metadata": {},
   "outputs": [],
   "source": [
    "import pandas as pd\n",
    "import os\n",
    "\n",
    "# 파일 경로 설정\n",
    "path = r'C:\\Users\\Anichan\\Documents\\공부자료\\24.03 광진구청 공모전\\code\\data\\500m_키즈카페'\n",
    "people_week = pd.read_csv(os.path.join(path, '서울_생활인구_평일_전체평균.csv'), encoding='cp949')\n",
    "people_hol = pd.read_csv(os.path.join(path, '서울_생활인구_휴일_전체평균.csv'), encoding='cp949')\n",
    "people_resi = pd.read_csv(os.path.join(path, '행정구역_주민등록인구 2025.03.csv'), encoding='cp949')\n",
    "poor = pd.read_csv(os.path.join(path, '수급자.csv'), encoding='utf-8')\n",
    "kakao = pd.read_csv(os.path.join(path, 'kids_cafe_with_places_500m.csv'), encoding='cp949')\n",
    "kakao_kids = pd.read_csv(os.path.join(path, 'kids_with_키즈카페_500m.csv'), encoding='cp949')\n",
    "kids_info = pd.read_csv(os.path.join(path, 'kids_cafe_list_all_행정동.csv'), encoding='cp949')\n",
    "\n",
    "import re\n",
    "\n",
    "# '행정동' 컬럼에서 '제' 제거 (예: 자양제3동 → 자양3동)\n",
    "kids_info['행정동'] = kids_info['행정동'].apply(\n",
    "    lambda x: re.sub(r'제(\\d+)동', r'\\1동', x)\n",
    ")\n",
    "\n",
    "# '행정동' 컬럼에서 '제' 제거 (예: 자양제3동 → 자양3동)\n",
    "people_resi['행정동'] = people_resi['행정동'].apply(\n",
    "    lambda x: re.sub(r'제(\\d+)동', r'\\1동', x)\n",
    ")\n",
    "\n",
    "\n",
    "def clean_merged_columns(df, keep='_x'):\n",
    "    drop_suffix = '_y' if keep == '_x' else '_x'\n",
    "    cols_to_drop = [col for col in df.columns if col.endswith(drop_suffix)]\n",
    "    df = df.drop(columns=cols_to_drop)\n",
    "    df.columns = [col.replace(keep, '') for col in df.columns]\n",
    "    return df\n",
    "\n",
    "\n",
    "\n",
    "# 1. kakao와 gid 기준 병합\n",
    "merged = pd.merge(kids_info, kakao_kids, on='키즈카페 이름', how='left')\n",
    "merged = pd.merge(merged, kakao, on='키즈카페 이름', how='left')\n",
    "\n",
    "merged = clean_merged_columns(merged, keep='_x')\n",
    "\n",
    "# 2. 행정동 기준으로 나머지 파일 병합\n",
    "for df in [people_week, people_hol, people_resi, poor]:\n",
    "    merged = pd.merge(merged, df, on='행정동', how='left')\n",
    "\n",
    "merged = clean_merged_columns(merged, keep='_x')\n",
    "\n",
    "# 최종 결과 저장\n",
    "merged.to_csv(os.path.join(path, 'kids_500m_all.csv'), encoding='cp949', index=False)\n",
    "print(\"✅ 병합 완료. 행 수:\", merged.shape[0])"
   ]
  },
  {
   "cell_type": "markdown",
   "id": "945ca983",
   "metadata": {},
   "source": [
    "# 1000m 키즈카페"
   ]
  },
  {
   "cell_type": "code",
   "execution_count": null,
   "id": "ca8b3a63",
   "metadata": {},
   "outputs": [
    {
     "name": "stdout",
     "output_type": "stream",
     "text": [
      "✅ 병합 완료. 행 수: 81\n"
     ]
    }
   ],
   "source": [
    "import pandas as pd\n",
    "import os\n",
    "\n",
    "# 파일 경로 설정\n",
    "path = r'C:\\Users\\Anichan\\Documents\\공부자료\\24.03 광진구청 공모전\\code\\data\\1000m_키즈카페'\n",
    "people_week = pd.read_csv(os.path.join(path, '서울_생활인구_평일_전체평균.csv'), encoding='cp949')\n",
    "people_hol = pd.read_csv(os.path.join(path, '서울_생활인구_휴일_전체평균.csv'), encoding='cp949')\n",
    "people_resi = pd.read_csv(os.path.join(path, '행정구역_주민등록인구 2025.03.csv'), encoding='cp949')\n",
    "poor = pd.read_csv(os.path.join(path, '수급자.csv'), encoding='utf-8')\n",
    "kakao = pd.read_csv(os.path.join(path, 'kids_cafe_with_places_1000m.csv'), encoding='cp949')\n",
    "kakao_kids = pd.read_csv(os.path.join(path, 'kids_with_키즈카페_1000m.csv'), encoding='cp949')\n",
    "kids_info = pd.read_csv(os.path.join(path, 'kids_cafe_list_all_행정동.csv'), encoding='cp949')\n",
    "\n",
    "import re\n",
    "\n",
    "# '행정동' 컬럼에서 '제' 제거 (예: 자양제3동 → 자양3동)\n",
    "kids_info['행정동'] = kids_info['행정동'].apply(\n",
    "    lambda x: re.sub(r'제(\\d+)동', r'\\1동', x)\n",
    ")\n",
    "\n",
    "# '행정동' 컬럼에서 '제' 제거 (예: 자양제3동 → 자양3동)\n",
    "people_resi['행정동'] = people_resi['행정동'].apply(\n",
    "    lambda x: re.sub(r'제(\\d+)동', r'\\1동', x)\n",
    ")\n",
    "\n",
    "# '행정동' 컬럼에서 '제' 제거 (예: 자양제3동 → 자양3동)\n",
    "people_resi['행정동'] = people_resi['행정동'].apply(\n",
    "    lambda x: re.sub(r'제(\\d+)동', r'\\1동', x)\n",
    ")\n",
    "\n",
    "\n",
    "def clean_merged_columns(df, keep='_x'):\n",
    "    drop_suffix = '_y' if keep == '_x' else '_x'\n",
    "    cols_to_drop = [col for col in df.columns if col.endswith(drop_suffix)]\n",
    "    df = df.drop(columns=cols_to_drop)\n",
    "    df.columns = [col.replace(keep, '') for col in df.columns]\n",
    "    return df\n",
    "\n",
    "\n",
    "\n",
    "# 1. kakao와 gid 기준 병합\n",
    "merged = pd.merge(kids_info, kakao_kids, on='키즈카페 이름', how='left')\n",
    "merged = pd.merge(merged, kakao, on='키즈카페 이름', how='left')\n",
    "\n",
    "merged = clean_merged_columns(merged, keep='_x')\n",
    "\n",
    "# 2. 행정동 기준으로 나머지 파일 병합\n",
    "for df in [people_week, people_hol, people_resi, poor]:\n",
    "    merged = pd.merge(merged, df, on='행정동', how='left')\n",
    "\n",
    "merged = clean_merged_columns(merged, keep='_x')\n",
    "\n",
    "# 최종 결과 저장\n",
    "merged.to_csv(os.path.join(path, 'kids_1000m_all.csv'), encoding='cp949', index=False)\n",
    "print(\"✅ 병합 완료. 행 수:\", merged.shape[0])"
   ]
  },
  {
   "cell_type": "markdown",
   "id": "3962551c",
   "metadata": {},
   "source": [
    "# 사설 키즈 수정"
   ]
  },
  {
   "cell_type": "code",
   "execution_count": 1,
   "id": "57c3e69b",
   "metadata": {},
   "outputs": [],
   "source": [
    "import pandas as pd"
   ]
  },
  {
   "cell_type": "code",
   "execution_count": 8,
   "id": "251720f0",
   "metadata": {},
   "outputs": [],
   "source": [
    "a = r'C:\\Users\\Anichan\\Documents\\공부자료\\24.03 광진구청 공모전\\code\\data\\최종csv\\gwangjin_500m_all.csv'\n",
    "b = r'C:\\Users\\Anichan\\Documents\\공부자료\\24.03 광진구청 공모전\\code\\data\\최종csv\\gwangjin_1000m_all.csv'\n",
    "c = r'C:\\Users\\Anichan\\Documents\\공부자료\\24.03 광진구청 공모전\\code\\data\\최종csv\\kids_500m_all.csv'\n",
    "d = r'C:\\Users\\Anichan\\Documents\\공부자료\\24.03 광진구청 공모전\\code\\data\\최종csv\\kids_1000m_all.csv'"
   ]
  },
  {
   "cell_type": "code",
   "execution_count": 9,
   "id": "130a3223",
   "metadata": {},
   "outputs": [],
   "source": [
    "a1 = r'C:\\Users\\Anichan\\Documents\\공부자료\\24.03 광진구청 공모전\\code\\data\\500m_광진구\\gwangjin_places_키즈카페_500.csv'\n",
    "b1 = r'C:\\Users\\Anichan\\Documents\\공부자료\\24.03 광진구청 공모전\\code\\data\\1000m_광진구\\gwangjin_places_키즈카페_1000.csv'\n",
    "c1 = r'C:\\Users\\Anichan\\Documents\\공부자료\\24.03 광진구청 공모전\\code\\data\\500m_키즈카페\\kids_with_키즈카페_500m.csv'\n",
    "d1 = r'C:\\Users\\Anichan\\Documents\\공부자료\\24.03 광진구청 공모전\\code\\data\\1000m_키즈카페\\kids_with_키즈카페_1000m.csv'"
   ]
  },
  {
   "cell_type": "code",
   "execution_count": 22,
   "id": "605d4556",
   "metadata": {},
   "outputs": [],
   "source": [
    "f = pd.read_csv(a, encoding = 'cp949')\n",
    "l = pd.read_csv(a1, encoding = 'cp949')\n",
    "# f.drop(columns = '사설키즈_개수')\n",
    "\n",
    "merged = pd.merge(f, l, on='gid', how = 'inner')\n",
    "merged.to_csv('gwangjin_500m_all.csv', encoding = 'cp949', index = False)"
   ]
  },
  {
   "cell_type": "code",
   "execution_count": 23,
   "id": "29750bce",
   "metadata": {},
   "outputs": [],
   "source": [
    "f = pd.read_csv(b, encoding = 'cp949')\n",
    "l = pd.read_csv(b1, encoding = 'cp949')\n",
    "# f.drop(columns = '사설키즈_개수')\n",
    "\n",
    "merged = pd.merge(f, l, on='gid', how = 'inner')\n",
    "merged.to_csv('gwangjin_1000m_all.csv', encoding = 'cp949', index = False)"
   ]
  },
  {
   "cell_type": "code",
   "execution_count": 24,
   "id": "b249e55f",
   "metadata": {},
   "outputs": [],
   "source": [
    "f = pd.read_csv(c, encoding = 'cp949')\n",
    "l = pd.read_csv(c1, encoding = 'cp949')\n",
    "# f.drop(columns = '사설키즈_개수')\n",
    "\n",
    "merged = pd.merge(f, l, on='키즈카페 이름', how = 'inner')\n",
    "merged.to_csv('kids_500m_all.csv', encoding = 'cp949', index = False)"
   ]
  },
  {
   "cell_type": "code",
   "execution_count": 25,
   "id": "9d700c09",
   "metadata": {},
   "outputs": [],
   "source": [
    "f = pd.read_csv(d, encoding = 'cp949')\n",
    "l = pd.read_csv(d1, encoding = 'cp949')\n",
    "# f.drop(columns = '사설키즈_개수')\n",
    "\n",
    "merged = pd.merge(f, l, on='키즈카페 이름', how = 'inner')\n",
    "merged.to_csv('kids_1000m_all.csv', encoding = 'cp949', index = False)"
   ]
  },
  {
   "cell_type": "code",
   "execution_count": 11,
   "id": "ef35e843",
   "metadata": {},
   "outputs": [],
   "source": [
    "r1000_90 = r'C:\\Users\\Anichan\\Documents\\공부자료\\24.03 광진구청 공모전\\code\\data\\result1000-90.csv'\n",
    "r1000_80 = r'C:\\Users\\Anichan\\Documents\\공부자료\\24.03 광진구청 공모전\\code\\data\\result1000-80.csv'\n",
    "r500_90 = r'C:\\Users\\Anichan\\Documents\\공부자료\\24.03 광진구청 공모전\\code\\data\\result500-90.csv'\n",
    "r500_80 = r'C:\\Users\\Anichan\\Documents\\공부자료\\24.03 광진구청 공모전\\code\\data\\result500-80.csv'"
   ]
  },
  {
   "cell_type": "code",
   "execution_count": 7,
   "id": "b6846052",
   "metadata": {},
   "outputs": [],
   "source": [
    "f = pd.read_csv(r1000_90, encoding = 'cp949')\n",
    "l = pd.read_csv(d, encoding = 'cp949')\n",
    "# f.drop(columns = '사설키즈_개수')\n",
    "l['키즈카페 이름'] = l['키즈카페 이름'].str.replace(r'\\s+', '', regex=True)\n",
    "\n",
    "merged = pd.merge(f, l, on='키즈카페 이름', how = 'inner')\n",
    "merged.to_csv('result1000-90.csv', encoding = 'cp949', index = False)"
   ]
  },
  {
   "cell_type": "code",
   "execution_count": 8,
   "id": "b87317cc",
   "metadata": {},
   "outputs": [],
   "source": [
    "f = pd.read_csv(r1000_80, encoding = 'cp949')\n",
    "l = pd.read_csv(d, encoding = 'cp949')\n",
    "# f.drop(columns = '사설키즈_개수')\n",
    "l['키즈카페 이름'] = l['키즈카페 이름'].str.replace(r'\\s+', '', regex=True)\n",
    "\n",
    "merged = pd.merge(f, l, on='키즈카페 이름', how = 'inner')\n",
    "merged.to_csv('result1000-80.csv', encoding = 'cp949', index = False)"
   ]
  },
  {
   "cell_type": "code",
   "execution_count": 9,
   "id": "b8e5ead5",
   "metadata": {},
   "outputs": [],
   "source": [
    "f = pd.read_csv(r500_90, encoding = 'cp949')\n",
    "l = pd.read_csv(c, encoding = 'cp949')\n",
    "# f.drop(columns = '사설키즈_개수')\n",
    "l['키즈카페 이름'] = l['키즈카페 이름'].str.replace(r'\\s+', '', regex=True)\n",
    "\n",
    "merged = pd.merge(f, l, on='키즈카페 이름', how = 'inner')\n",
    "merged.to_csv('result500-90.csv', encoding = 'cp949', index = False)"
   ]
  },
  {
   "cell_type": "code",
   "execution_count": 10,
   "id": "4241e5e1",
   "metadata": {},
   "outputs": [],
   "source": [
    "f = pd.read_csv(r500_80, encoding = 'cp949')\n",
    "l = pd.read_csv(c, encoding = 'cp949')\n",
    "# f.drop(columns = '사설키즈_개수')\n",
    "l['키즈카페 이름'] = l['키즈카페 이름'].str.replace(r'\\s+', '', regex=True)\n",
    "\n",
    "merged = pd.merge(f, l, on='키즈카페 이름', how = 'inner')\n",
    "merged.to_csv('result500-80.csv', encoding = 'cp949', index = False)"
   ]
  },
  {
   "cell_type": "markdown",
   "id": "5067b37e",
   "metadata": {},
   "source": [
    "### new"
   ]
  },
  {
   "cell_type": "code",
   "execution_count": 26,
   "id": "92f02752",
   "metadata": {},
   "outputs": [],
   "source": [
    "new = pd.read_csv('./data/result_final.csv', encoding = 'utf-8')"
   ]
  },
  {
   "cell_type": "code",
   "execution_count": 38,
   "id": "11c53624",
   "metadata": {},
   "outputs": [],
   "source": [
    "f = pd.read_csv(r1000_90, encoding = 'cp949')\n",
    "l = pd.read_csv('./data/result_final.csv', encoding = 'cp949')\n",
    "# f.drop(columns = '사설키즈_개수')\n",
    "l['키즈카페 이름'] = l['키즈카페 이름'].str.replace(r'\\s+', '', regex=True)\n",
    "\n",
    "merged = pd.merge(f, l, on='키즈카페 이름', how = 'inner')\n",
    "merged.to_csv('result1000-90.csv', encoding = 'cp949', index = False)"
   ]
  },
  {
   "cell_type": "code",
   "execution_count": 39,
   "id": "83c02576",
   "metadata": {},
   "outputs": [],
   "source": [
    "f = pd.read_csv(r1000_80, encoding = 'cp949')\n",
    "l = pd.read_csv('./data/result_final.csv', encoding = 'cp949')\n",
    "# f.drop(columns = '사설키즈_개수')\n",
    "l['키즈카페 이름'] = l['키즈카페 이름'].str.replace(r'\\s+', '', regex=True)\n",
    "\n",
    "merged = pd.merge(f, l, on='키즈카페 이름', how = 'inner')\n",
    "merged.to_csv('result1000-80.csv', encoding = 'cp949', index = False)"
   ]
  },
  {
   "cell_type": "code",
   "execution_count": 40,
   "id": "ebc35e75",
   "metadata": {},
   "outputs": [],
   "source": [
    "f = pd.read_csv(r500_90, encoding = 'cp949')\n",
    "l = pd.read_csv('./data/result_final.csv', encoding = 'cp949')\n",
    "# f.drop(columns = '사설키즈_개수')\n",
    "l['키즈카페 이름'] = l['키즈카페 이름'].str.replace(r'\\s+', '', regex=True)\n",
    "\n",
    "merged = pd.merge(f, l, on='키즈카페 이름', how = 'inner')\n",
    "merged.to_csv('result500-90.csv', encoding = 'cp949', index = False)"
   ]
  },
  {
   "cell_type": "code",
   "execution_count": 41,
   "id": "2fc356ce",
   "metadata": {},
   "outputs": [],
   "source": [
    "f = pd.read_csv(r500_80, encoding = 'cp949')\n",
    "l = pd.read_csv('./data/result_final.csv', encoding = 'cp949')\n",
    "# f.drop(columns = '사설키즈_개수')\n",
    "l['키즈카페 이름'] = l['키즈카페 이름'].str.replace(r'\\s+', '', regex=True)\n",
    "\n",
    "merged = pd.merge(f, l, on='키즈카페 이름', how = 'inner')\n",
    "merged.to_csv('result500-80.csv', encoding = 'cp949', index = False)"
   ]
  },
  {
   "cell_type": "code",
   "execution_count": null,
   "id": "f45d69a4",
   "metadata": {},
   "outputs": [],
   "source": []
  }
 ],
 "metadata": {
  "kernelspec": {
   "display_name": "asia",
   "language": "python",
   "name": "python3"
  },
  "language_info": {
   "codemirror_mode": {
    "name": "ipython",
    "version": 3
   },
   "file_extension": ".py",
   "mimetype": "text/x-python",
   "name": "python",
   "nbconvert_exporter": "python",
   "pygments_lexer": "ipython3",
   "version": "3.12.8"
  }
 },
 "nbformat": 4,
 "nbformat_minor": 5
}
